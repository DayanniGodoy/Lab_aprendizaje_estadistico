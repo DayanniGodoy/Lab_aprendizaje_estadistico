{
 "cells": [
  {
   "cell_type": "markdown",
   "id": "fc70aab5-edc9-4b60-9afb-60da4032cf6b",
   "metadata": {},
   "source": [
    "# T05 - Motor Trend Car Road Tests\n",
    "### Dayanni Godoy Rosales\n",
    "18-09-2025"
   ]
  },
  {
   "cell_type": "markdown",
   "id": "808a17be-8e55-4772-a880-2831cdb0b7c4",
   "metadata": {},
   "source": [
    "Utiliza el archivo \"Motor Trend Car Road Tests.xlsx\" y completa las siguientes actividades:\n",
    "\n",
    "1.1 Realiza una regresión tomando 'mpg' como salida y eliminando la columna 'model'. Considera todos los demás factores como numéricos/ordinales.\n",
    "\n",
    "Calcula el R2 e interpreta los signos de los betas.\n",
    "Realiza un train-test-split donde se use el 40% de los datos para entrenar. Calcula el R2 de entrenamiento y de prueba.\n",
    "Añade regularización L2 con un hiperparámetro lambda decidido por ti. Cambia este valor y compara con varios distintos los R2 de entrenamiento y de prueba.\n",
    "1.2 Repite el ejercicio anterior usando 'qsec' como salida.\n",
    "\n",
    "2.1 Realiza una regresión tomando 'mpg' como salida y eliminando la columna 'model'. Crea columnas dummies para los factores 'cyl', 'gear' y 'carb'.\n",
    "\n",
    "Calcula el R2 e interpreta los signos de los betas.\n",
    "Realiza un train-test-split donde se use el 40% de los datos para entrenar. Calcula el R2 de entrenamiento y de prueba.\n",
    "2.2 Repite el ejercicio anterior usando 'qsec' como salida.\n",
    "\n",
    "3.1 Compara los R2 de los ejercicios 1.1 & 2.1.\n",
    "\n",
    "3.2 Compara los R2 de los ejercicios 1.2 & 2.2."
   ]
  },
  {
   "cell_type": "markdown",
   "id": "b3600d51-415b-4efa-89d0-993dc4082d24",
   "metadata": {},
   "source": [
    "## 1.1 "
   ]
  },
  {
   "cell_type": "code",
   "execution_count": 133,
   "id": "848643d5-5597-499d-a819-ee4a73ed3592",
   "metadata": {},
   "outputs": [],
   "source": [
    "import pandas as pd\n",
    "import statsmodels.api as sm\n",
    "from sklearn.model_selection import train_test_split\n",
    "from sklearn.preprocessing import StandardScaler\n",
    "from sklearn.metrics import r2_score\n",
    "from sklearn.linear_model import Ridge"
   ]
  },
  {
   "cell_type": "code",
   "execution_count": 185,
   "id": "2d5b2df8-df27-4c15-a4fc-0de55c3391ec",
   "metadata": {},
   "outputs": [
    {
     "name": "stdout",
     "output_type": "stream",
     "text": [
      "Resumen OLS:\n",
      "                            OLS Regression Results                            \n",
      "==============================================================================\n",
      "Dep. Variable:                      y   R-squared:                       0.998\n",
      "Model:                            OLS   Adj. R-squared:                  0.980\n",
      "Method:                 Least Squares   F-statistic:                     55.84\n",
      "Date:                Thu, 18 Sep 2025   Prob (F-statistic):              0.104\n",
      "Time:                        22:24:49   Log-Likelihood:                -2.6714\n",
      "No. Observations:                  12   AIC:                             27.34\n",
      "Df Residuals:                       1   BIC:                             32.68\n",
      "Df Model:                          10                                         \n",
      "Covariance Type:            nonrobust                                         \n",
      "==============================================================================\n",
      "                 coef    std err          t      P>|t|      [0.025      0.975]\n",
      "------------------------------------------------------------------------------\n",
      "const         20.9167      0.302     69.191      0.009      17.076      24.758\n",
      "x1            -5.8352      2.260     -2.582      0.235     -34.553      22.883\n",
      "x2            -1.6489      3.716     -0.444      0.734     -48.861      45.563\n",
      "x3            -2.1647      1.077     -2.011      0.294     -15.844      11.514\n",
      "x4            -3.6063      0.869     -4.150      0.151     -14.649       7.436\n",
      "x5           -10.1594      1.627     -6.244      0.101     -30.834      10.515\n",
      "x6             9.1727      1.648      5.566      0.113     -11.769      30.114\n",
      "x7           -12.9889      4.288     -3.029      0.203     -67.473      41.495\n",
      "x8             2.2126      0.763      2.901      0.211      -7.479      11.905\n",
      "x9             2.4806      0.707      3.510      0.177      -6.499      11.460\n",
      "x10            6.6514      1.499      4.438      0.141     -12.390      25.693\n",
      "==============================================================================\n",
      "Omnibus:                        4.750   Durbin-Watson:                   1.590\n",
      "Prob(Omnibus):                  0.093   Jarque-Bera (JB):                1.604\n",
      "Skew:                          -0.411   Prob(JB):                        0.449\n",
      "Kurtosis:                       4.591   Cond. No.                         49.8\n",
      "==============================================================================\n",
      "\n",
      "Notes:\n",
      "[1] Standard Errors assume that the covariance matrix of the errors is correctly specified.\n",
      "R2 entrenamiento (OLS): 0.9982122857062323\n",
      "R2 prueba (OLS): -7.107140653510585\n",
      "R2 entrenamiento (Ridge): 0.9274813499199267\n",
      "R2 prueba (Ridge): 0.6518375462086008\n"
     ]
    },
    {
     "name": "stderr",
     "output_type": "stream",
     "text": [
      "C:\\Users\\dayan\\anaconda3\\Lib\\site-packages\\scipy\\stats\\_axis_nan_policy.py:531: UserWarning: kurtosistest only valid for n>=20 ... continuing anyway, n=12\n",
      "  res = hypotest_fun_out(*samples, **kwds)\n"
     ]
    }
   ],
   "source": [
    "\n",
    "# Cargar el archivo\n",
    "data = pd.read_excel(\"Motor Trend Car Road Tests.xlsx\")\n",
    "\n",
    "# Limpiamos quitando la columna que no se usa\n",
    "data = data.drop(columns=['model'])\n",
    "\n",
    "# Variables predictoras y salida\n",
    "X = data.drop(columns=['mpg']).values\n",
    "y = data['mpg'].values\n",
    "\n",
    "# Split: 40% entrenamiento, 60% prueba\n",
    "X_train, X_test, y_train, y_test = train_test_split(\n",
    "    X, y, test_size=0.6, random_state=42\n",
    ")\n",
    "\n",
    "# Escalamos los datos\n",
    "scaler = StandardScaler().fit(X_train)\n",
    "X_train_scaled = scaler.transform(X_train)\n",
    "X_test_scaled = scaler.transform(X_test)\n",
    "\n",
    "# Modelo OLS\n",
    "X_train_const = sm.add_constant(X_train_scaled)\n",
    "ols_model = sm.OLS(y_train, X_train_const).fit()\n",
    "\n",
    "print(\"Resumen OLS:\")\n",
    "print(ols_model.summary())\n",
    "\n",
    "# Predicciones con prueba\n",
    "X_test_const = sm.add_constant(X_test_scaled)\n",
    "y_pred_ols = ols_model.predict(X_test_const)\n",
    "\n",
    "r2_train_ols_mpg1 = ols_model.rsquared\n",
    "r2_test_ols_mpg1 = r2_score(y_test, y_pred_ols)\n",
    "\n",
    "print(\"R2 entrenamiento (OLS): \" + str(r2_train_ols_mpg1))\n",
    "print(\"R2 prueba (OLS): \" + str(r2_test_ols_mpg1))\n",
    "\n",
    "# Regularización Ridge\n",
    "ridge_model = Ridge(alpha=1).fit(X_train_scaled, y_train)\n",
    "\n",
    "y_pred_train_ridge = ridge_model.predict(X_train_scaled)\n",
    "y_pred_test_ridge = ridge_model.predict(X_test_scaled)\n",
    "\n",
    "r2_train_ridge = r2_score(y_train, y_pred_train_ridge)\n",
    "r2_test_ridge = r2_score(y_test, y_pred_test_ridge)\n",
    "\n",
    "print(\"R2 entrenamiento (Ridge): \" + str(r2_train_ridge))\n",
    "print(\"R2 prueba (Ridge): \" + str(r2_test_ridge))\n"
   ]
  },
  {
   "cell_type": "markdown",
   "id": "47f86a9d-37dd-4d63-bd62-a728e827bbcc",
   "metadata": {},
   "source": [
    "Interpretar los signos de los coeficiente"
   ]
  },
  {
   "cell_type": "code",
   "execution_count": 157,
   "id": "03beb916-cfe0-4e1b-b653-79c3b8dfa2c1",
   "metadata": {},
   "outputs": [
    {
     "name": "stdout",
     "output_type": "stream",
     "text": [
      "R2 entrenamiento (Ridge): 0.9274813499199267\n",
      "R2 prueba (Ridge): 0.6518375462086008\n"
     ]
    }
   ],
   "source": [
    "# Regularización Ridge alpha 1\n",
    "ridge_model = Ridge(alpha=1).fit(X_train_scaled, y_train)\n",
    "\n",
    "y_pred_train_ridge = ridge_model.predict(X_train_scaled)\n",
    "y_pred_test_ridge = ridge_model.predict(X_test_scaled)\n",
    "\n",
    "r2_train_ridge = r2_score(y_train, y_pred_train_ridge)\n",
    "r2_test_ridge = r2_score(y_test, y_pred_test_ridge)\n",
    "\n",
    "print(\"R2 entrenamiento (Ridge): \" + str(r2_train_ridge))\n",
    "print(\"R2 prueba (Ridge): \" + str(r2_test_ridge))"
   ]
  },
  {
   "cell_type": "code",
   "execution_count": 159,
   "id": "f9e887d5-5b4e-4b5f-896d-846b4126ef05",
   "metadata": {},
   "outputs": [
    {
     "name": "stdout",
     "output_type": "stream",
     "text": [
      "R2 entrenamiento (Ridge): 0.983137773095632\n",
      "R2 prueba (Ridge): -0.5064817705944273\n",
      "Coeficientes del modelo Ridge:\n",
      "cyl: -2.0815601928834178 (negativo)\n",
      "disp: 1.8803136677734422 (positivo)\n",
      "hp: -2.457398266785389 (negativo)\n",
      "drat: -2.0426028804982437 (negativo)\n",
      "wt: -7.875643835059549 (negativo)\n",
      "qsec: 5.13225584492053 (positivo)\n",
      "vs: -4.286183418311386 (negativo)\n",
      "am: 1.9691254967170326 (positivo)\n",
      "gear: 1.6318967884689521 (positivo)\n",
      "carb: 2.9676581067730474 (positivo)\n"
     ]
    }
   ],
   "source": [
    "# Regularización Ridge alpha 0.1\n",
    "ridge_model = Ridge(alpha=0.1).fit(X_train_scaled, y_train)\n",
    "\n",
    "y_pred_train_ridge = ridge_model.predict(X_train_scaled)\n",
    "y_pred_test_ridge = ridge_model.predict(X_test_scaled)\n",
    "\n",
    "r2_train_ridge = r2_score(y_train, y_pred_train_ridge)\n",
    "r2_test_ridge = r2_score(y_test, y_pred_test_ridge)\n",
    "\n",
    "print(\"R2 entrenamiento (Ridge): \" + str(r2_train_ridge))\n",
    "print(\"R2 prueba (Ridge): \" + str(r2_test_ridge))\n",
    "\n",
    "# Mostrar coeficientes del modelo Ridge\n",
    "features = data.drop(columns=['mpg']).columns \n",
    "print(\"Coeficientes del modelo Ridge:\")\n",
    "for var, coef in zip(features, ridge_model.coef_):\n",
    "    signo = \"positivo\" if coef > 0 else \"negativo\"\n",
    "    print(var + \": \" + str(coef) + \" (\" + signo + \")\")"
   ]
  },
  {
   "cell_type": "markdown",
   "id": "edcb807d-bfcc-4a6c-a8f7-d297e94e8e98",
   "metadata": {},
   "source": [
    "Sobreajuste, el modelo captura ruido en entrenamiento pero no generaliza bien.\n",
    "\n",
    "Coeficientes Ridge:\n",
    "\n",
    "Negativos (reducen mpg): cilindros, desplazamiento, potencia, peso\n",
    "\n",
    "Positivos (aumentan mpg): aceleración (qsec), transmisión manual (am), número de marchas"
   ]
  },
  {
   "cell_type": "markdown",
   "id": "a1864a48-ce84-47d9-87f8-6711f3a1dfbc",
   "metadata": {},
   "source": [
    "## 1.2"
   ]
  },
  {
   "cell_type": "code",
   "execution_count": 187,
   "id": "383341b2-9b7d-4ac0-a802-6d924d12983c",
   "metadata": {},
   "outputs": [
    {
     "name": "stdout",
     "output_type": "stream",
     "text": [
      "Resumen OLS para qsec:\n",
      "                            OLS Regression Results                            \n",
      "==============================================================================\n",
      "Dep. Variable:                      y   R-squared:                       0.999\n",
      "Model:                            OLS   Adj. R-squared:                  0.988\n",
      "Method:                 Least Squares   F-statistic:                     94.94\n",
      "Date:                Thu, 18 Sep 2025   Prob (F-statistic):             0.0797\n",
      "Time:                        22:26:18   Log-Likelihood:                 18.054\n",
      "No. Observations:                  12   AIC:                            -14.11\n",
      "Df Residuals:                       1   BIC:                            -8.775\n",
      "Df Model:                          10                                         \n",
      "Covariance Type:            nonrobust                                         \n",
      "==============================================================================\n",
      "                 coef    std err          t      P>|t|      [0.025      0.975]\n",
      "------------------------------------------------------------------------------\n",
      "const         17.9433      0.054    333.850      0.002      17.260      18.626\n",
      "x1             1.2511      0.225      5.566      0.113      -1.605       4.107\n",
      "x2             1.0422      0.389      2.676      0.228      -3.906       5.990\n",
      "x3             0.3321      0.642      0.517      0.696      -7.824       8.488\n",
      "x4             0.3633      0.230      1.581      0.359      -2.556       3.282\n",
      "x5             0.6463      0.131      4.928      0.127      -1.020       2.313\n",
      "x6             1.7980      0.337      5.340      0.118      -2.481       6.077\n",
      "x7             2.3533      0.613      3.838      0.162      -5.437      10.144\n",
      "x8            -0.3923      0.139     -2.830      0.216      -2.154       1.369\n",
      "x9            -0.4456      0.108     -4.116      0.152      -1.821       0.930\n",
      "x10           -1.1947      0.205     -5.820      0.108      -3.803       1.414\n",
      "==============================================================================\n",
      "Omnibus:                        5.092   Durbin-Watson:                   1.681\n",
      "Prob(Omnibus):                  0.078   Jarque-Bera (JB):                1.933\n",
      "Skew:                           0.188   Prob(JB):                        0.380\n",
      "Kurtosis:                       4.930   Cond. No.                         45.7\n",
      "==============================================================================\n",
      "\n",
      "Notes:\n",
      "[1] Standard Errors assume that the covariance matrix of the errors is correctly specified.\n",
      "R2 entrenamiento (OLS): 0.9989478049029176\n",
      "R2 prueba (OLS): -1.0013422169955888\n"
     ]
    },
    {
     "name": "stderr",
     "output_type": "stream",
     "text": [
      "C:\\Users\\dayan\\anaconda3\\Lib\\site-packages\\scipy\\stats\\_axis_nan_policy.py:531: UserWarning: kurtosistest only valid for n>=20 ... continuing anyway, n=12\n",
      "  res = hypotest_fun_out(*samples, **kwds)\n"
     ]
    }
   ],
   "source": [
    "import pandas as pd\n",
    "import statsmodels.api as sm\n",
    "from sklearn.model_selection import train_test_split\n",
    "from sklearn.preprocessing import StandardScaler\n",
    "from sklearn.metrics import r2_score\n",
    "from sklearn.linear_model import Ridge\n",
    "\n",
    "# Cargar el archivo\n",
    "data = pd.read_excel(\"Motor Trend Car Road Tests.xlsx\")\n",
    "\n",
    "# Quitamos la columna 'model' que no sirve como predictor\n",
    "data = data.drop(columns=['model'])\n",
    "\n",
    "# Definimos predictores y salida (ahora 'qsec')\n",
    "features = data.drop(columns=['qsec']).columns   # nombres de variables predictoras\n",
    "X = data.drop(columns=['qsec']).values\n",
    "y = data['qsec'].values\n",
    "\n",
    "# Split: 40% entrenamiento, 60% prueba\n",
    "X_train, X_test, y_train, y_test = train_test_split(\n",
    "    X, y, test_size=0.6, random_state=42\n",
    ")\n",
    "\n",
    "# Escalamos\n",
    "scaler = StandardScaler().fit(X_train)\n",
    "X_train_scaled = scaler.transform(X_train)\n",
    "X_test_scaled = scaler.transform(X_test)\n",
    "\n",
    "# Modelo OLS\n",
    "X_train_const = sm.add_constant(X_train_scaled)\n",
    "ols_model = sm.OLS(y_train, X_train_const).fit()\n",
    "\n",
    "print(\"Resumen OLS para qsec:\")\n",
    "print(ols_model.summary())\n",
    "\n",
    "\n",
    "\n",
    "# Predicciones\n",
    "X_test_const = sm.add_constant(X_test_scaled)\n",
    "y_pred_ols = ols_model.predict(X_test_const)\n",
    "\n",
    "r2_train_ols_qsec1 = ols_model.rsquared\n",
    "r2_test_ols_qsec1 = r2_score(y_test, y_pred_ols)\n",
    "\n",
    "print(\"R2 entrenamiento (OLS): \" + str(r2_train_ols_qsec1))\n",
    "print(\"R2 prueba (OLS): \" + str(r2_test_ols_qsec1))\n",
    "\n"
   ]
  },
  {
   "cell_type": "code",
   "execution_count": 153,
   "id": "03c5c8f3-920f-4307-9a9e-8bf67cc4b69f",
   "metadata": {},
   "outputs": [
    {
     "name": "stdout",
     "output_type": "stream",
     "text": [
      "R2 entrenamiento (Ridge): 0.9274813499199267\n",
      "R2 prueba (Ridge): 0.6518375462086008\n",
      "Coeficientes del modelo Ridge para qsec:\n",
      "cyl: -0.7885714655519767 (negativo)\n",
      "disp: -0.15278834643893147 (negativo)\n",
      "hp: -1.6888419666009937 (negativo)\n",
      "drat: -0.29397020684434555 (negativo)\n",
      "wt: -3.079910935388808 (negativo)\n",
      "qsec: 1.1440565353126932 (positivo)\n",
      "vs: -0.39800502463197884 (negativo)\n",
      "am: 1.416441960467505 (positivo)\n",
      "gear: 0.9319951809683572 (positivo)\n",
      "carb: -0.17123817084321036 (negativo)\n"
     ]
    }
   ],
   "source": [
    "\n",
    "# Regularización Ridge con alpha=1\n",
    "ridge_model = Ridge(alpha=1).fit(X_train_scaled, y_train)\n",
    "\n",
    "y_pred_train_ridge = ridge_model.predict(X_train_scaled)\n",
    "y_pred_test_ridge = ridge_model.predict(X_test_scaled)\n",
    "\n",
    "r2_train_ridge = r2_score(y_train, y_pred_train_ridge)\n",
    "r2_test_ridge = r2_score(y_test, y_pred_test_ridge)\n",
    "\n",
    "print(\"R2 entrenamiento (Ridge): \" + str(r2_train_ridge))\n",
    "print(\"R2 prueba (Ridge): \" + str(r2_test_ridge))\n",
    "\n",
    "# Coeficientes del modelo Ridge\n",
    "print(\"Coeficientes del modelo Ridge para qsec:\")\n",
    "for var, coef in zip(features, ridge_model.coef_):\n",
    "    signo = \"positivo\" if coef > 0 else \"negativo\"\n",
    "    print(var + \": \" + str(coef) + \" (\" + signo + \")\")"
   ]
  },
  {
   "cell_type": "code",
   "execution_count": 155,
   "id": "ebd04a19-cc44-43d6-bc06-1752320e52d0",
   "metadata": {},
   "outputs": [
    {
     "name": "stdout",
     "output_type": "stream",
     "text": [
      "R2 entrenamiento (Ridge): 0.983137773095632\n",
      "R2 prueba (Ridge): -0.5064817705944273\n",
      "Coeficientes del modelo Ridge para qsec:\n",
      "cyl: -2.0815601928834178 (negativo)\n",
      "disp: 1.8803136677734422 (positivo)\n",
      "hp: -2.457398266785389 (negativo)\n",
      "drat: -2.0426028804982437 (negativo)\n",
      "wt: -7.875643835059549 (negativo)\n",
      "qsec: 5.13225584492053 (positivo)\n",
      "vs: -4.286183418311386 (negativo)\n",
      "am: 1.9691254967170326 (positivo)\n",
      "gear: 1.6318967884689521 (positivo)\n",
      "carb: 2.9676581067730474 (positivo)\n"
     ]
    }
   ],
   "source": [
    "\n",
    "# Regularización Ridge con alpha=0.1\n",
    "ridge_model = Ridge(alpha=0.1).fit(X_train_scaled, y_train)\n",
    "\n",
    "y_pred_train_ridge = ridge_model.predict(X_train_scaled)\n",
    "y_pred_test_ridge = ridge_model.predict(X_test_scaled)\n",
    "\n",
    "r2_train_ridge = r2_score(y_train, y_pred_train_ridge)\n",
    "r2_test_ridge = r2_score(y_test, y_pred_test_ridge)\n",
    "\n",
    "print(\"R2 entrenamiento (Ridge): \" + str(r2_train_ridge))\n",
    "print(\"R2 prueba (Ridge): \" + str(r2_test_ridge))\n",
    "\n",
    "# Coeficientes del modelo Ridge\n",
    "print(\"Coeficientes del modelo Ridge para qsec:\")\n",
    "for var, coef in zip(features, ridge_model.coef_):\n",
    "    signo = \"positivo\" if coef > 0 else \"negativo\"\n",
    "    print(var + \": \" + str(coef) + \" (\" + signo + \")\")"
   ]
  },
  {
   "cell_type": "markdown",
   "id": "34258eba-5217-4f3e-be69-4913bf2d6450",
   "metadata": {},
   "source": [
    "# 2.1"
   ]
  },
  {
   "cell_type": "code",
   "execution_count": 201,
   "id": "2b5f0b9d-da5d-4b4d-8d06-c714293fc550",
   "metadata": {},
   "outputs": [
    {
     "name": "stdout",
     "output_type": "stream",
     "text": [
      "Resumen OLS con mpg:\n",
      "                            OLS Regression Results                            \n",
      "==============================================================================\n",
      "Dep. Variable:                    mpg   R-squared:                       1.000\n",
      "Model:                            OLS   Adj. R-squared:                    nan\n",
      "Method:                 Least Squares   F-statistic:                       nan\n",
      "Date:                Thu, 18 Sep 2025   Prob (F-statistic):                nan\n",
      "Time:                        22:31:16   Log-Likelihood:                 361.91\n",
      "No. Observations:                  12   AIC:                            -699.8\n",
      "Df Residuals:                       0   BIC:                            -694.0\n",
      "Df Model:                          11                                         \n",
      "Covariance Type:            nonrobust                                         \n",
      "==============================================================================\n",
      "                 coef    std err          t      P>|t|      [0.025      0.975]\n",
      "------------------------------------------------------------------------------\n",
      "const         20.9167        inf          0        nan         nan         nan\n",
      "x1            -0.9338        inf         -0        nan         nan         nan\n",
      "x2            -4.9449        inf         -0        nan         nan         nan\n",
      "x3            -3.5767        inf         -0        nan         nan         nan\n",
      "x4            -8.2181        inf         -0        nan         nan         nan\n",
      "x5             4.7457        inf          0        nan         nan         nan\n",
      "x6            -2.3265        inf         -0        nan         nan         nan\n",
      "x7             1.6880        inf          0        nan         nan         nan\n",
      "x8            -2.0800        inf         -0        nan         nan         nan\n",
      "x9             2.3265        inf          0        nan         nan         nan\n",
      "x10            2.2164        inf          0        nan         nan         nan\n",
      "x11            2.2340        inf          0        nan         nan         nan\n",
      "x12            0.9799        inf          0        nan         nan         nan\n",
      "x13                 0        nan        nan        nan         nan         nan\n",
      "x14            6.6572        inf          0        nan         nan         nan\n",
      "x15                 0        nan        nan        nan         nan         nan\n",
      "x16                 0        nan        nan        nan         nan         nan\n",
      "==============================================================================\n",
      "Omnibus:                        5.113   Durbin-Watson:                   1.435\n",
      "Prob(Omnibus):                  0.078   Jarque-Bera (JB):                2.246\n",
      "Skew:                           1.020   Prob(JB):                        0.325\n",
      "Kurtosis:                       3.575   Cond. No.                         60.2\n",
      "==============================================================================\n",
      "\n",
      "Notes:\n",
      "[1] Standard Errors assume that the covariance matrix of the errors is correctly specified.\n",
      "[2] The input rank is higher than the number of observations.\n",
      "R2 entrenamiento mpg: 1.0\n",
      "R2 prueba mpg: -1.565514024399861\n"
     ]
    },
    {
     "name": "stderr",
     "output_type": "stream",
     "text": [
      "C:\\Users\\dayan\\anaconda3\\Lib\\site-packages\\scipy\\stats\\_axis_nan_policy.py:531: UserWarning: kurtosistest only valid for n>=20 ... continuing anyway, n=12\n",
      "  res = hypotest_fun_out(*samples, **kwds)\n",
      "C:\\Users\\dayan\\anaconda3\\Lib\\site-packages\\statsmodels\\regression\\linear_model.py:1796: RuntimeWarning: divide by zero encountered in divide\n",
      "  return 1 - (np.divide(self.nobs - self.k_constant, self.df_resid)\n",
      "C:\\Users\\dayan\\anaconda3\\Lib\\site-packages\\statsmodels\\regression\\linear_model.py:1796: RuntimeWarning: invalid value encountered in scalar multiply\n",
      "  return 1 - (np.divide(self.nobs - self.k_constant, self.df_resid)\n",
      "C:\\Users\\dayan\\anaconda3\\Lib\\site-packages\\statsmodels\\regression\\linear_model.py:1718: RuntimeWarning: divide by zero encountered in scalar divide\n",
      "  return np.dot(wresid, wresid) / self.df_resid\n",
      "C:\\Users\\dayan\\anaconda3\\Lib\\site-packages\\statsmodels\\base\\model.py:1527: RuntimeWarning: invalid value encountered in multiply\n",
      "  cov_p = self.normalized_cov_params * scale\n"
     ]
    }
   ],
   "source": [
    "data = pd.read_excel(\"Motor Trend Car Road Tests.xlsx\")\n",
    "\n",
    "data = data.drop(columns=['model'])\n",
    "# Hago dummies para cyl, gear y carb (variables categóricas)\n",
    "data = pd.get_dummies(data, columns=['cyl', 'gear', 'carb'], drop_first=True)\n",
    "\n",
    "X = data.drop(columns=['mpg'])\n",
    "y = data['mpg']\n",
    "\n",
    "X_train, X_test, y_train, y_test = train_test_split(\n",
    "    X, y, test_size=0.6, random_state=42\n",
    ")\n",
    "\n",
    "scaler = StandardScaler().fit(X_train)\n",
    "X_train_scaled = scaler.transform(X_train)\n",
    "X_test_scaled = scaler.transform(X_test)\n",
    "\n",
    "\n",
    "X_train_const = sm.add_constant(X_train_scaled)\n",
    "ols_model_dummies = sm.OLS(y_train, X_train_const).fit()\n",
    "\n",
    "print(\"Resumen OLS con mpg:\")\n",
    "print(ols_model_dummies.summary())\n",
    "\n",
    "# Predicciones y R2\n",
    "X_test_const = sm.add_constant(X_test_scaled)\n",
    "y_pred_ols = ols_model_dummies.predict(X_test_const)\n",
    "\n",
    "r2_train_ols_mpg2 = ols_model_dummies.rsquared\n",
    "r2_test_ols_mpg2 = r2_score(y_test, y_pred_ols)\n",
    "\n",
    "print(\"R2 entrenamiento mpg: \" + str(r2_train_ols_mpg2))\n",
    "print(\"R2 prueba mpg: \" + str(r2_test_ols_mpg2))"
   ]
  },
  {
   "cell_type": "code",
   "execution_count": 203,
   "id": "c7918a34-3010-43fe-87e6-30f416f490e2",
   "metadata": {},
   "outputs": [
    {
     "name": "stdout",
     "output_type": "stream",
     "text": [
      "\n",
      "Resumen OLS con qsec:\n",
      "                            OLS Regression Results                            \n",
      "==============================================================================\n",
      "Dep. Variable:                   qsec   R-squared:                       1.000\n",
      "Model:                            OLS   Adj. R-squared:                    nan\n",
      "Method:                 Least Squares   F-statistic:                       nan\n",
      "Date:                Thu, 18 Sep 2025   Prob (F-statistic):                nan\n",
      "Time:                        22:31:44   Log-Likelihood:                 360.38\n",
      "No. Observations:                  12   AIC:                            -696.8\n",
      "Df Residuals:                       0   BIC:                            -690.9\n",
      "Df Model:                          11                                         \n",
      "Covariance Type:            nonrobust                                         \n",
      "==============================================================================\n",
      "                 coef    std err          t      P>|t|      [0.025      0.975]\n",
      "------------------------------------------------------------------------------\n",
      "const         17.9433        inf          0        nan         nan         nan\n",
      "x1             1.9230        inf          0        nan         nan         nan\n",
      "x2            -1.5518        inf         -0        nan         nan         nan\n",
      "x3             0.7061        inf          0        nan         nan         nan\n",
      "x4             0.9451        inf          0        nan         nan         nan\n",
      "x5             3.1969        inf          0        nan         nan         nan\n",
      "x6             0.2365        inf          0        nan         nan         nan\n",
      "x7            -0.3665        inf         -0        nan         nan         nan\n",
      "x8             0.3303        inf          0        nan         nan         nan\n",
      "x9            -0.2365        inf         -0        nan         nan         nan\n",
      "x10           -0.8628        inf         -0        nan         nan         nan\n",
      "x11           -0.6041        inf         -0        nan         nan         nan\n",
      "x12           -0.3317        inf         -0        nan         nan         nan\n",
      "x13                 0        nan        nan        nan         nan         nan\n",
      "x14           -1.2926        inf         -0        nan         nan         nan\n",
      "x15                 0        nan        nan        nan         nan         nan\n",
      "x16                 0        nan        nan        nan         nan         nan\n",
      "==============================================================================\n",
      "Omnibus:                        0.377   Durbin-Watson:                   1.650\n",
      "Prob(Omnibus):                  0.828   Jarque-Bera (JB):                0.362\n",
      "Skew:                           0.323   Prob(JB):                        0.835\n",
      "Kurtosis:                       2.448   Cond. No.                         111.\n",
      "==============================================================================\n",
      "\n",
      "Notes:\n",
      "[1] Standard Errors assume that the covariance matrix of the errors is correctly specified.\n",
      "[2] The input rank is higher than the number of observations.\n",
      "R2 entrenamiento qsec: 1.0\n",
      "R2 prueba qsec: -0.26694379405070956\n"
     ]
    },
    {
     "name": "stderr",
     "output_type": "stream",
     "text": [
      "C:\\Users\\dayan\\anaconda3\\Lib\\site-packages\\scipy\\stats\\_axis_nan_policy.py:531: UserWarning: kurtosistest only valid for n>=20 ... continuing anyway, n=12\n",
      "  res = hypotest_fun_out(*samples, **kwds)\n",
      "C:\\Users\\dayan\\anaconda3\\Lib\\site-packages\\statsmodels\\regression\\linear_model.py:1796: RuntimeWarning: divide by zero encountered in divide\n",
      "  return 1 - (np.divide(self.nobs - self.k_constant, self.df_resid)\n",
      "C:\\Users\\dayan\\anaconda3\\Lib\\site-packages\\statsmodels\\regression\\linear_model.py:1796: RuntimeWarning: invalid value encountered in scalar multiply\n",
      "  return 1 - (np.divide(self.nobs - self.k_constant, self.df_resid)\n",
      "C:\\Users\\dayan\\anaconda3\\Lib\\site-packages\\statsmodels\\regression\\linear_model.py:1718: RuntimeWarning: divide by zero encountered in scalar divide\n",
      "  return np.dot(wresid, wresid) / self.df_resid\n",
      "C:\\Users\\dayan\\anaconda3\\Lib\\site-packages\\statsmodels\\base\\model.py:1527: RuntimeWarning: invalid value encountered in multiply\n",
      "  cov_p = self.normalized_cov_params * scale\n"
     ]
    }
   ],
   "source": [
    "# Ahora probamos pero con qsec como salida\n",
    "X2 = data.drop(columns=['qsec'])\n",
    "y2 = data['qsec']\n",
    "\n",
    "X_train2, X_test2, y_train2, y_test2 = train_test_split(\n",
    "    X2, y2, test_size=0.6, random_state=42\n",
    ")\n",
    "\n",
    "scaler2 = StandardScaler().fit(X_train2)\n",
    "X_train_scaled2 = scaler2.transform(X_train2)\n",
    "X_test_scaled2 = scaler2.transform(X_test2)\n",
    "\n",
    "X_train_const2 = sm.add_constant(X_train_scaled2)\n",
    "ols_model2_dummies = sm.OLS(y_train2, X_train_const2).fit()\n",
    "\n",
    "print(\"\\nResumen OLS con qsec:\")\n",
    "print(ols_model2_dummies.summary())\n",
    "\n",
    "X_test_const2 = sm.add_constant(X_test_scaled2)\n",
    "y_pred_ols2 = ols_model2_dummies.predict(X_test_const2)\n",
    "\n",
    "r2_train_ols_qsec2 = ols_model2_dummies.rsquared\n",
    "r2_test_ols_qsec2 = r2_score(y_test2, y_pred_ols2)\n",
    "\n",
    "print(\"R2 entrenamiento qsec: \" + str(r2_train_ols_qsec2))\n",
    "print(\"R2 prueba qsec: \" + str(r2_test_ols_qsec2))"
   ]
  },
  {
   "cell_type": "markdown",
   "id": "78f6861a-5e49-45ce-8154-1134b3a1d0d6",
   "metadata": {},
   "source": [
    "# 3.1"
   ]
  },
  {
   "cell_type": "code",
   "execution_count": 205,
   "id": "60174770-aa57-42a8-a33a-e0ad3ac74bfb",
   "metadata": {},
   "outputs": [
    {
     "name": "stdout",
     "output_type": "stream",
     "text": [
      "R2 del modelo mpg sin dummies:  0.9989478049029176\n",
      "R2 del modelo mpg con dummies:  1.0\n"
     ]
    }
   ],
   "source": [
    "# Comparación de R2 para mpg\n",
    "print(\"R2 del modelo mpg sin dummies: \", ols_model.rsquared)\n",
    "print(\"R2 del modelo mpg con dummies: \", ols_model_dummies.rsquared)\n",
    "\n"
   ]
  },
  {
   "cell_type": "markdown",
   "id": "d38cc909-b43c-45e5-8a35-9ca6b04032ee",
   "metadata": {},
   "source": [
    "# 3.2"
   ]
  },
  {
   "cell_type": "code",
   "execution_count": 207,
   "id": "8f339885-6180-42f0-a9a7-b766a6f5a2e7",
   "metadata": {},
   "outputs": [
    {
     "name": "stdout",
     "output_type": "stream",
     "text": [
      "R2 del modelo qsec sin dummies:  0.9989478049029176\n",
      "R2 del modelo qsec con dummies:  1.0\n"
     ]
    }
   ],
   "source": [
    "# Comparación de R2 para qsec\n",
    "print(\"R2 del modelo qsec sin dummies: \", ols_model2.rsquared)\n",
    "print(\"R2 del modelo qsec con dummies: \", ols_model2_dummies.rsquared)\n"
   ]
  },
  {
   "cell_type": "markdown",
   "id": "57c88211-7de6-4fed-aade-603e5f708fda",
   "metadata": {},
   "source": [
    "El modelo mpg sin dummies ya explicaba casi todo y al agregar las dummies de cyl, gear y carb se ajusta perfectamente, aunque esto puede ser overfitting. Las categorías aportan información extra, pero el modelo original ya capturaba casi toda la variación."
   ]
  }
 ],
 "metadata": {
  "kernelspec": {
   "display_name": "Python [conda env:base] *",
   "language": "python",
   "name": "conda-base-py"
  },
  "language_info": {
   "codemirror_mode": {
    "name": "ipython",
    "version": 3
   },
   "file_extension": ".py",
   "mimetype": "text/x-python",
   "name": "python",
   "nbconvert_exporter": "python",
   "pygments_lexer": "ipython3",
   "version": "3.12.7"
  }
 },
 "nbformat": 4,
 "nbformat_minor": 5
}
